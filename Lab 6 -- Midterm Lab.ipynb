{
 "cells": [
  {
   "cell_type": "markdown",
   "metadata": {},
   "source": [
    "# Analysis of Modern NFL Data # "
   ]
  },
  {
   "cell_type": "markdown",
   "metadata": {},
   "source": [
    "## Abstract ##"
   ]
  },
  {
   "cell_type": "markdown",
   "metadata": {},
   "source": [
    "*** Introduction: ***\n",
    "\n",
    "> In this lab, I will be analyzing recent NFL data in order to determine what factors are related to NFL athletes' success. I am very curious to see if a NFL player's height and weight effect how long they play for. I think that there is a lot of interesting coorelations and analyses to be found, especially considering this dataset contains over 100,000 rows of datapoints.\n",
    "\n",
    "*** Specific Questions: *** \n",
    "\n",
    ">* *Exploratory*:\n",
    "    - Is there a coorelation between a college football player's height and the amount of seasons they play for?\n",
    "    - Is there a coorelation between a college football player's weight and the amount of seasons they play for?\n",
    "* *Numerical*:\n",
    "    - What is the average weight and height of an NFL player?\n",
    "    - What is the most common college for NFL players?\n",
    "    - What is the most common high school for NFL players?"
   ]
  },
  {
   "cell_type": "markdown",
   "metadata": {},
   "source": [
    "## Dataset Information ##"
   ]
  },
  {
   "cell_type": "markdown",
   "metadata": {},
   "source": [
    "*** About my [Dataset](https://www.kaggle.com/kendallgillies/nflstatistics): ***\n",
    "\n",
    "\n",
    ">    In my dataset, there are 16 columns, and 17173 rows. There are 4 columns with integer data, two with dates, and the rest are strings. The numerical data is on the columns: 'age', 'height', 'weight', 'years played', and 'player ID'. The string data is on: 'current status', 'college', 'high school', 'player name', 'birthplace,' 'position', and 'birthday'.\n",
    "\n",
    "*** My Plan to Address Missing Data: ***\n",
    ">    The four columns that have missing data are all related to the current NFL team that the player plays for. That means that the team, team number, high school, and years played all have some sort of missing data. The way that I plan to clean my data is by putting in NaN’s where there is missing data, because there is no way for me to guess the current team. The player is either currently playing (which means they have data), or they are retired, which means that I can’t guess on their current team because they don’t have one.\n",
    "\n",
    "*** The Variables I Plan on Using: ***\n",
    ">    I plan on heavily relying on height, experience, and weight, to extrapolate and see if those variables have any effect on how many seasons the person played for and if college played a role on their seasons. I plan on dropping the player ID and position, because I see no way they can effectively be used. I also might drop the current team, because there is so much missing data.\n",
    "    \n",
    "*** How I plan on Cleaning my Data: ***\n",
    ">    I plan on converting all of the season data to integers from strings, and making sure all of the missing data is converted to NaN’s. Finally, I will try to make sure the weight, height, and years played for variables are converted to machine-readable integers.\n",
    "    \n",
    "*** Planned Explatory Analysis: ***\n",
    ">    As I said before, I plan on looking for a correlation between height, weight, and how many seasons a player played for. I am specifically interested in finding whether or not there are certain variables that affect how many seasons a NFL player plays for. I also plan on calculating the liklihood that someone remains in the NFL based on thier age, height, weight, and other statistics. This will suffice as my exploratory data and analysis."
   ]
  },
  {
   "cell_type": "markdown",
   "metadata": {},
   "source": [
    "## Dataset Preparation ## "
   ]
  },
  {
   "cell_type": "markdown",
   "metadata": {},
   "source": [
    "*** Importing Required Modules: ***"
   ]
  },
  {
   "cell_type": "code",
   "execution_count": 1,
   "metadata": {},
   "outputs": [],
   "source": [
    "import math as m\n",
    "import numpy as np\n",
    "import scipy as sp\n",
    "import pandas as pd\n",
    "import matplotlib as mpl\n",
    "import matplotlib.pyplot as plt\n",
    "import seaborn as sns\n",
    "import statsmodels.api as sm\n",
    "import statsmodels.formula.api as smf"
   ]
  },
  {
   "cell_type": "markdown",
   "metadata": {},
   "source": [
    "*** Opening the Dataset: ***\n",
    "\n",
    "> I read the csv file into a dataframe called 'df', and then created a list of the column headers (for ease of access later on). Finally, I printed the head of the file, to see if Jupyter opened the datset correctly. "
   ]
  },
  {
   "cell_type": "code",
   "execution_count": 2,
   "metadata": {},
   "outputs": [
    {
     "data": {
      "text/html": [
       "<div>\n",
       "<style scoped>\n",
       "    .dataframe tbody tr th:only-of-type {\n",
       "        vertical-align: middle;\n",
       "    }\n",
       "\n",
       "    .dataframe tbody tr th {\n",
       "        vertical-align: top;\n",
       "    }\n",
       "\n",
       "    .dataframe thead th {\n",
       "        text-align: right;\n",
       "    }\n",
       "</style>\n",
       "<table border=\"1\" class=\"dataframe\">\n",
       "  <thead>\n",
       "    <tr style=\"text-align: right;\">\n",
       "      <th></th>\n",
       "      <th>Age</th>\n",
       "      <th>Birth Place</th>\n",
       "      <th>Birthday</th>\n",
       "      <th>College</th>\n",
       "      <th>Current Status</th>\n",
       "      <th>Current Team</th>\n",
       "      <th>Experience</th>\n",
       "      <th>Height (inches)</th>\n",
       "      <th>High School</th>\n",
       "      <th>High School Location</th>\n",
       "      <th>Name</th>\n",
       "      <th>Number</th>\n",
       "      <th>Player Id</th>\n",
       "      <th>Position</th>\n",
       "      <th>Weight (lbs)</th>\n",
       "      <th>Years Played</th>\n",
       "    </tr>\n",
       "  </thead>\n",
       "  <tbody>\n",
       "    <tr>\n",
       "      <th>0</th>\n",
       "      <td>NaN</td>\n",
       "      <td>Grand Rapids , MI</td>\n",
       "      <td>5/23/1921</td>\n",
       "      <td>Notre Dame</td>\n",
       "      <td>Retired</td>\n",
       "      <td>NaN</td>\n",
       "      <td>3 Seasons</td>\n",
       "      <td>71.0</td>\n",
       "      <td>NaN</td>\n",
       "      <td>NaN</td>\n",
       "      <td>Evans, Fred</td>\n",
       "      <td>NaN</td>\n",
       "      <td>fredevans/2513736</td>\n",
       "      <td>NaN</td>\n",
       "      <td>185.0</td>\n",
       "      <td>1946 - 1948</td>\n",
       "    </tr>\n",
       "    <tr>\n",
       "      <th>1</th>\n",
       "      <td>NaN</td>\n",
       "      <td>Dayton , OH</td>\n",
       "      <td>12/21/1930</td>\n",
       "      <td>Dayton</td>\n",
       "      <td>Retired</td>\n",
       "      <td>NaN</td>\n",
       "      <td>1 Season</td>\n",
       "      <td>70.0</td>\n",
       "      <td>NaN</td>\n",
       "      <td>NaN</td>\n",
       "      <td>Raiff, Jim</td>\n",
       "      <td>NaN</td>\n",
       "      <td>jimraiff/2523700</td>\n",
       "      <td>NaN</td>\n",
       "      <td>235.0</td>\n",
       "      <td>1954 - 1954</td>\n",
       "    </tr>\n",
       "    <tr>\n",
       "      <th>2</th>\n",
       "      <td>56.0</td>\n",
       "      <td>Temple , TX</td>\n",
       "      <td>9/11/1960</td>\n",
       "      <td>Louisiana Tech</td>\n",
       "      <td>Retired</td>\n",
       "      <td>NaN</td>\n",
       "      <td>1 Season</td>\n",
       "      <td>74.0</td>\n",
       "      <td>NaN</td>\n",
       "      <td>NaN</td>\n",
       "      <td>Fowler, Bobby</td>\n",
       "      <td>NaN</td>\n",
       "      <td>bobbyfowler/2514295</td>\n",
       "      <td>NaN</td>\n",
       "      <td>230.0</td>\n",
       "      <td>1985 - 1985</td>\n",
       "    </tr>\n",
       "    <tr>\n",
       "      <th>3</th>\n",
       "      <td>30.0</td>\n",
       "      <td>New Orleans , LA</td>\n",
       "      <td>9/30/1986</td>\n",
       "      <td>LSU</td>\n",
       "      <td>Retired</td>\n",
       "      <td>NaN</td>\n",
       "      <td>5 Seasons</td>\n",
       "      <td>73.0</td>\n",
       "      <td>NaN</td>\n",
       "      <td>NaN</td>\n",
       "      <td>Johnson, Quinn</td>\n",
       "      <td>NaN</td>\n",
       "      <td>quinnjohnson/79593</td>\n",
       "      <td>NaN</td>\n",
       "      <td>255.0</td>\n",
       "      <td>2009 - 2013</td>\n",
       "    </tr>\n",
       "    <tr>\n",
       "      <th>4</th>\n",
       "      <td>25.0</td>\n",
       "      <td>Detroit , MI</td>\n",
       "      <td>3/31/1992</td>\n",
       "      <td>Central Michigan</td>\n",
       "      <td>Active</td>\n",
       "      <td>Pittsburgh Steelers</td>\n",
       "      <td>3rd season</td>\n",
       "      <td>77.0</td>\n",
       "      <td>Clintondale HS</td>\n",
       "      <td>Clinton Twp.,Macomb Co., MI</td>\n",
       "      <td>Walton, L.T.</td>\n",
       "      <td>96.0</td>\n",
       "      <td>l.t.walton/2552444</td>\n",
       "      <td>DE</td>\n",
       "      <td>305.0</td>\n",
       "      <td>NaN</td>\n",
       "    </tr>\n",
       "  </tbody>\n",
       "</table>\n",
       "</div>"
      ],
      "text/plain": [
       "    Age        Birth Place    Birthday           College Current Status  \\\n",
       "0   NaN  Grand Rapids , MI   5/23/1921        Notre Dame        Retired   \n",
       "1   NaN        Dayton , OH  12/21/1930            Dayton        Retired   \n",
       "2  56.0        Temple , TX   9/11/1960    Louisiana Tech        Retired   \n",
       "3  30.0   New Orleans , LA   9/30/1986               LSU        Retired   \n",
       "4  25.0       Detroit , MI   3/31/1992  Central Michigan         Active   \n",
       "\n",
       "          Current Team  Experience  Height (inches)     High School  \\\n",
       "0                  NaN   3 Seasons             71.0             NaN   \n",
       "1                  NaN    1 Season             70.0             NaN   \n",
       "2                  NaN    1 Season             74.0             NaN   \n",
       "3                  NaN   5 Seasons             73.0             NaN   \n",
       "4  Pittsburgh Steelers  3rd season             77.0  Clintondale HS   \n",
       "\n",
       "          High School Location            Name  Number            Player Id  \\\n",
       "0                          NaN     Evans, Fred     NaN    fredevans/2513736   \n",
       "1                          NaN      Raiff, Jim     NaN     jimraiff/2523700   \n",
       "2                          NaN   Fowler, Bobby     NaN  bobbyfowler/2514295   \n",
       "3                          NaN  Johnson, Quinn     NaN   quinnjohnson/79593   \n",
       "4  Clinton Twp.,Macomb Co., MI    Walton, L.T.    96.0   l.t.walton/2552444   \n",
       "\n",
       "  Position  Weight (lbs) Years Played  \n",
       "0      NaN         185.0  1946 - 1948  \n",
       "1      NaN         235.0  1954 - 1954  \n",
       "2      NaN         230.0  1985 - 1985  \n",
       "3      NaN         255.0  2009 - 2013  \n",
       "4       DE         305.0          NaN  "
      ]
     },
     "execution_count": 2,
     "metadata": {},
     "output_type": "execute_result"
    }
   ],
   "source": [
    "df = pd.read_csv('./Basic_Stats.csv')\n",
    "c = list(df.columns.values)\n",
    "\n",
    "df.head()"
   ]
  },
  {
   "cell_type": "markdown",
   "metadata": {},
   "source": [
    "*** Cleaning the Experience Column: ***\n",
    "> Since the experience column had string data like '3 seasons' or '1 season', I wanted to convert the entire column into integer data. This would make it easier to analyze the effect of height and weight on seasons played, and would allow for the calculation of averages. To do this, I made a simple lambda function that just tries to take the first character of the string and use it as the integer value. I then printed out the column after this function was applied, and one can see that it worked perfectly."
   ]
  },
  {
   "cell_type": "code",
   "execution_count": 3,
   "metadata": {},
   "outputs": [
    {
     "data": {
      "text/plain": [
       "0    3\n",
       "1    1\n",
       "2    1\n",
       "3    5\n",
       "4    3\n",
       "5    1\n",
       "6    3\n",
       "7    0\n",
       "8    1\n",
       "9    1\n",
       "Name: Experience, dtype: int64"
      ]
     },
     "execution_count": 3,
     "metadata": {},
     "output_type": "execute_result"
    }
   ],
   "source": [
    "# Convert to integer, or else set to 0\n",
    "def to_num(x):\n",
    "    try:\n",
    "        return int(x[0])\n",
    "    except:\n",
    "        return 0\n",
    "\n",
    "df[c[6]] = df[c[6]].apply(lambda x: to_num(x))\n",
    "\n",
    "# Print first 10 items to prove that the lambda did what I wanted\n",
    "df[c[6]][0:10]"
   ]
  },
  {
   "cell_type": "markdown",
   "metadata": {},
   "source": [
    "*** Cleaning the Weight Column: ***\n",
    "> The weight column had several values that were under 50 pounds, and since there is no reason why a NFL player should weigh less than a 10-year-old, I decided to turn any value under 50 pounds into a NaN. I did this by just looping through the entire column and running every item through a simple check."
   ]
  },
  {
   "cell_type": "code",
   "execution_count": 4,
   "metadata": {},
   "outputs": [
    {
     "data": {
      "text/plain": [
       "0    185.0\n",
       "1    235.0\n",
       "2    230.0\n",
       "3    255.0\n",
       "4    305.0\n",
       "5    180.0\n",
       "6    185.0\n",
       "7    250.0\n",
       "8      NaN\n",
       "9    175.0\n",
       "Name: Weight (lbs), dtype: float64"
      ]
     },
     "execution_count": 4,
     "metadata": {},
     "output_type": "execute_result"
    }
   ],
   "source": [
    "# Change all weights under 50 lbs to NaN's\n",
    "df.loc[df[c[14]] < 50, c[13]] = np.NaN\n",
    "\n",
    "# Print first 10 items\n",
    "df[c[14]][0:10]"
   ]
  },
  {
   "cell_type": "markdown",
   "metadata": {},
   "source": [
    "*** Dropping Unusable Columns: ***\n",
    "> I had no use for the 'Number', 'Player ID', 'Position', or 'High School Location' columns, so I simply dropped them with one line and then displayed the updated head. After that, the data cleaning was complete."
   ]
  },
  {
   "cell_type": "code",
   "execution_count": 5,
   "metadata": {},
   "outputs": [
    {
     "data": {
      "text/html": [
       "<div>\n",
       "<style scoped>\n",
       "    .dataframe tbody tr th:only-of-type {\n",
       "        vertical-align: middle;\n",
       "    }\n",
       "\n",
       "    .dataframe tbody tr th {\n",
       "        vertical-align: top;\n",
       "    }\n",
       "\n",
       "    .dataframe thead th {\n",
       "        text-align: right;\n",
       "    }\n",
       "</style>\n",
       "<table border=\"1\" class=\"dataframe\">\n",
       "  <thead>\n",
       "    <tr style=\"text-align: right;\">\n",
       "      <th></th>\n",
       "      <th>Age</th>\n",
       "      <th>Birth Place</th>\n",
       "      <th>Birthday</th>\n",
       "      <th>College</th>\n",
       "      <th>Current Status</th>\n",
       "      <th>Current Team</th>\n",
       "      <th>Experience</th>\n",
       "      <th>Height (inches)</th>\n",
       "      <th>High School</th>\n",
       "      <th>Name</th>\n",
       "      <th>Weight (lbs)</th>\n",
       "      <th>Years Played</th>\n",
       "    </tr>\n",
       "  </thead>\n",
       "  <tbody>\n",
       "    <tr>\n",
       "      <th>0</th>\n",
       "      <td>NaN</td>\n",
       "      <td>Grand Rapids , MI</td>\n",
       "      <td>5/23/1921</td>\n",
       "      <td>Notre Dame</td>\n",
       "      <td>Retired</td>\n",
       "      <td>NaN</td>\n",
       "      <td>3</td>\n",
       "      <td>71.0</td>\n",
       "      <td>NaN</td>\n",
       "      <td>Evans, Fred</td>\n",
       "      <td>185.0</td>\n",
       "      <td>1946 - 1948</td>\n",
       "    </tr>\n",
       "    <tr>\n",
       "      <th>1</th>\n",
       "      <td>NaN</td>\n",
       "      <td>Dayton , OH</td>\n",
       "      <td>12/21/1930</td>\n",
       "      <td>Dayton</td>\n",
       "      <td>Retired</td>\n",
       "      <td>NaN</td>\n",
       "      <td>1</td>\n",
       "      <td>70.0</td>\n",
       "      <td>NaN</td>\n",
       "      <td>Raiff, Jim</td>\n",
       "      <td>235.0</td>\n",
       "      <td>1954 - 1954</td>\n",
       "    </tr>\n",
       "    <tr>\n",
       "      <th>2</th>\n",
       "      <td>56.0</td>\n",
       "      <td>Temple , TX</td>\n",
       "      <td>9/11/1960</td>\n",
       "      <td>Louisiana Tech</td>\n",
       "      <td>Retired</td>\n",
       "      <td>NaN</td>\n",
       "      <td>1</td>\n",
       "      <td>74.0</td>\n",
       "      <td>NaN</td>\n",
       "      <td>Fowler, Bobby</td>\n",
       "      <td>230.0</td>\n",
       "      <td>1985 - 1985</td>\n",
       "    </tr>\n",
       "    <tr>\n",
       "      <th>3</th>\n",
       "      <td>30.0</td>\n",
       "      <td>New Orleans , LA</td>\n",
       "      <td>9/30/1986</td>\n",
       "      <td>LSU</td>\n",
       "      <td>Retired</td>\n",
       "      <td>NaN</td>\n",
       "      <td>5</td>\n",
       "      <td>73.0</td>\n",
       "      <td>NaN</td>\n",
       "      <td>Johnson, Quinn</td>\n",
       "      <td>255.0</td>\n",
       "      <td>2009 - 2013</td>\n",
       "    </tr>\n",
       "    <tr>\n",
       "      <th>4</th>\n",
       "      <td>25.0</td>\n",
       "      <td>Detroit , MI</td>\n",
       "      <td>3/31/1992</td>\n",
       "      <td>Central Michigan</td>\n",
       "      <td>Active</td>\n",
       "      <td>Pittsburgh Steelers</td>\n",
       "      <td>3</td>\n",
       "      <td>77.0</td>\n",
       "      <td>Clintondale HS</td>\n",
       "      <td>Walton, L.T.</td>\n",
       "      <td>305.0</td>\n",
       "      <td>NaN</td>\n",
       "    </tr>\n",
       "  </tbody>\n",
       "</table>\n",
       "</div>"
      ],
      "text/plain": [
       "    Age        Birth Place    Birthday           College Current Status  \\\n",
       "0   NaN  Grand Rapids , MI   5/23/1921        Notre Dame        Retired   \n",
       "1   NaN        Dayton , OH  12/21/1930            Dayton        Retired   \n",
       "2  56.0        Temple , TX   9/11/1960    Louisiana Tech        Retired   \n",
       "3  30.0   New Orleans , LA   9/30/1986               LSU        Retired   \n",
       "4  25.0       Detroit , MI   3/31/1992  Central Michigan         Active   \n",
       "\n",
       "          Current Team  Experience  Height (inches)     High School  \\\n",
       "0                  NaN           3             71.0             NaN   \n",
       "1                  NaN           1             70.0             NaN   \n",
       "2                  NaN           1             74.0             NaN   \n",
       "3                  NaN           5             73.0             NaN   \n",
       "4  Pittsburgh Steelers           3             77.0  Clintondale HS   \n",
       "\n",
       "             Name  Weight (lbs) Years Played  \n",
       "0     Evans, Fred         185.0  1946 - 1948  \n",
       "1      Raiff, Jim         235.0  1954 - 1954  \n",
       "2   Fowler, Bobby         230.0  1985 - 1985  \n",
       "3  Johnson, Quinn         255.0  2009 - 2013  \n",
       "4    Walton, L.T.         305.0          NaN  "
      ]
     },
     "execution_count": 5,
     "metadata": {},
     "output_type": "execute_result"
    }
   ],
   "source": [
    "df = df.drop(['Number', 'Player Id', 'Position', 'High School Location'], axis=1)\n",
    "df.head()"
   ]
  },
  {
   "cell_type": "markdown",
   "metadata": {},
   "source": [
    "## Data Modelling ##"
   ]
  },
  {
   "cell_type": "markdown",
   "metadata": {},
   "source": [
    "### Exploratory Analysis ###"
   ]
  },
  {
   "cell_type": "markdown",
   "metadata": {},
   "source": [
    "*** Checking for Weight/Experience Coorelation: ***\n",
    "> Two of the variables that I wanted to look for a coorelation between were player experience and weight, so I initially made a regression plot. As one can see, it is very hard to see any coorelation with a regression plot, especially because experience is effectively categorical data. Since there aren't any players who have played for more than 8 seasons, all of the data is within one of 8 categories. This meant that I had to look for a different model."
   ]
  },
  {
   "cell_type": "code",
   "execution_count": 22,
   "metadata": {},
   "outputs": [
    {
     "data": {
      "text/plain": [
       "<matplotlib.axes._subplots.AxesSubplot at 0x10f571b38>"
      ]
     },
     "execution_count": 22,
     "metadata": {},
     "output_type": "execute_result"
    },
    {
     "data": {
      "image/png": "[encoded data removed]",
      "text/plain": [
       "<Figure size 432x288 with 1 Axes>"
      ]
     },
     "metadata": {},
     "output_type": "display_data"
    }
   ],
   "source": [
    "# Linear regression plot doesn't really show us anything\n",
    "sns.regplot(x='Experience', y=\"Weight (lbs)\", data=df)"
   ]
  },
  {
   "cell_type": "markdown",
   "metadata": {},
   "source": [
    "*** A Different Coorelation Model: ***\n",
    "> Since a regression model didn't really work for these two columns, I decided to look elsewhere. Luckily, violin plots seemed to work perfectly for my needs. They do a great job of relating numerical and categorical data, which is perfect for my application. Sadly, the violin plot definitevely proved that there was no correlation between how long a player plays for and their weight.\n",
    "\n",
    "> Also, the violin plot for some reason displays the NaN values as zeros, which I spent an hour trying to address. Sadly, there doesn't seem to be an easy way to ignore NaN values, so they skew the data slightly. This does not however have a large effect on the data, since there are over 100,000 entries and a few NaN's aren't going to majorly affect the resulting information."
   ]
  },
  {
   "cell_type": "code",
   "execution_count": 20,
   "metadata": {},
   "outputs": [
    {
     "data": {
      "text/plain": [
       "<matplotlib.axes._subplots.AxesSubplot at 0x10f2d0048>"
      ]
     },
     "execution_count": 20,
     "metadata": {},
     "output_type": "execute_result"
    },
    {
     "data": {
      "image/png": "[encoded data removed]",
      "text/plain": [
       "<Figure size 432x288 with 1 Axes>"
      ]
     },
     "metadata": {},
     "output_type": "display_data"
    }
   ],
   "source": [
    "# Doesn't drop NaN's for some reason, but makes visual sense\n",
    "sns.violinplot(x='Experience', y=\"Weight (lbs)\", data=df)"
   ]
  },
  {
   "cell_type": "markdown",
   "metadata": {},
   "source": [
    "*** Checking for Height/Experience Coorelation: ***\n",
    "> Another two of the variables that I wanted to look for a coorelation between were player experience and height, so I initially made a strip plot, since the earlier regression plot didn't fit my needs well. As one can see, it is very hard to see any coorelation with a regression plot, especially because experience is effectively categorical data. Since there aren't any players who have played for more than 8 seasons, all of the data is within one of 8 categories. This meant that I had to look for a different model."
   ]
  },
  {
   "cell_type": "code",
   "execution_count": 24,
   "metadata": {},
   "outputs": [
    {
     "data": {
      "text/plain": [
       "<matplotlib.axes._subplots.AxesSubplot at 0x10fa13630>"
      ]
     },
     "execution_count": 24,
     "metadata": {},
     "output_type": "execute_result"
    },
    {
     "data": {
      "image/png": "[encoded data removed]",
      "text/plain": [
       "<Figure size 432x288 with 1 Axes>"
      ]
     },
     "metadata": {},
     "output_type": "display_data"
    }
   ],
   "source": [
    "# Strip doesn't make sense -- too many datapoints to be useful\n",
    "sns.stripplot(x='Experience', y=\"Height (inches)\", jitter=1, data=df)"
   ]
  },
  {
   "cell_type": "markdown",
   "metadata": {},
   "source": [
    "***  A Different Coorelation Model (Part 2): ***\n",
    "> Since a stip plot didn't really work for these two columns, I decided to look elsewhere. I also didn't want to use a violin plot again, since I felt like another model might work better for these two columns. Luckily, a box plot works perfectly here. Sadly, it again proved that there was no correlation between how long a player plays for and their height."
   ]
  },
  {
   "cell_type": "code",
   "execution_count": 21,
   "metadata": {},
   "outputs": [
    {
     "data": {
      "text/plain": [
       "<matplotlib.axes._subplots.AxesSubplot at 0x10f3b3cc0>"
      ]
     },
     "execution_count": 21,
     "metadata": {},
     "output_type": "execute_result"
    },
    {
     "data": {
      "image/png": "[encoded data removed]",
      "text/plain": [
       "<Figure size 432x288 with 1 Axes>"
      ]
     },
     "metadata": {},
     "output_type": "display_data"
    }
   ],
   "source": [
    "# Makes more sense for this application -- hard to see a coorelation\n",
    "sns.boxplot(x='Experience', y=\"Height (inches)\", data=df)"
   ]
  },
  {
   "cell_type": "markdown",
   "metadata": {},
   "source": [
    "### Numerical Analysis ###"
   ]
  },
  {
   "cell_type": "markdown",
   "metadata": {},
   "source": [
    "*** Finding the Average Weight of an NFL Player: ***\n",
    "> To find the average weight of an NFL player, I simply took the mean of the weight column and printed it."
   ]
  },
  {
   "cell_type": "code",
   "execution_count": 16,
   "metadata": {},
   "outputs": [
    {
     "name": "stdout",
     "output_type": "stream",
     "text": [
      "Average weight of an NFL player: 229.22 pounds\n"
     ]
    }
   ],
   "source": [
    "avg_weight = df['Weight (lbs)'].mean()\n",
    "\n",
    "print('Average weight of an NFL player: %.2f pounds' %avg_weight)"
   ]
  },
  {
   "cell_type": "markdown",
   "metadata": {},
   "source": [
    "*** Finding the Average Height of an NFL Player: ***\n",
    "> To find the average height of an NFL player, I simply took the mean of the height column and printed it."
   ]
  },
  {
   "cell_type": "code",
   "execution_count": 15,
   "metadata": {},
   "outputs": [
    {
     "name": "stdout",
     "output_type": "stream",
     "text": [
      "Average height of an NFL player: 73.51 inches\n"
     ]
    }
   ],
   "source": [
    "avg_height = df['Height (inches)'].mean()\n",
    "\n",
    "print('Average height of an NFL player: %.2f inches' %avg_height)"
   ]
  },
  {
   "cell_type": "markdown",
   "metadata": {},
   "source": [
    "*** Finding the Most Common High School of NFL Players: ***\n",
    "> To find the most common high school of NFL players, I took the first element of the value_counts method result (which would be the max), and grabbed both the count and the id (the actual school name) of it. I then printed the result."
   ]
  },
  {
   "cell_type": "code",
   "execution_count": 36,
   "metadata": {},
   "outputs": [
    {
     "name": "stdout",
     "output_type": "stream",
     "text": [
      "Most common highschool for NFL players: St. Thomas Aquinas HS (15)\n"
     ]
    }
   ],
   "source": [
    "top_h = df['High School'].value_counts()[0]\n",
    "top_school = df['High School'].value_counts().idxmax()\n",
    "\n",
    "print('Most common highschool for NFL players: %s (%d)' %(top_school, top_h))"
   ]
  },
  {
   "cell_type": "markdown",
   "metadata": {},
   "source": [
    "*** Finding the Most Common College of NFL Players: ***\n",
    "> To find the most common college of NFL players, I took the first element of the value_counts method result (which would be the max), and grabbed both the count and the id (the actual school name) of it. I then printed the result."
   ]
  },
  {
   "cell_type": "code",
   "execution_count": 35,
   "metadata": {},
   "outputs": [
    {
     "name": "stdout",
     "output_type": "stream",
     "text": [
      "Most common college for NFL players: Notre Dame (305)\n"
     ]
    }
   ],
   "source": [
    "top_c = df['College'].value_counts()[0]\n",
    "top_college = df['College'].value_counts().idxmax()\n",
    "\n",
    "print('Most common college for NFL players: %s (%d)' %(top_college, top_c))"
   ]
  },
  {
   "cell_type": "markdown",
   "metadata": {},
   "source": [
    "## Data Analysis & Conclusion ##"
   ]
  },
  {
   "cell_type": "markdown",
   "metadata": {},
   "source": [
    "*** Conclusion: ***\n",
    "> Although I was definitely unhappy with finding no correlatiton between height and experience or weight and experience, I think that the models that came out of the analysis are valuable. They definitevely prove that there is no correlation between those variablees, which means that the NFL favors skill over other inalterable atributes of a player like hieght or weight.\n",
    "\n",
    "> I was definitely surprised that the average weight of a NFL player over 200 pounds. It was interesting to realize that different sports require vastly different attributes of their athletes.\n",
    "\n",
    "> I was also interested to learn that the most common college of NFL players was Notre Dame. I would have thought it would be some school like U of Michigan or another massive state school. The most common high school was also fascinating to learn about.\n",
    "\n",
    "> My biggest regret in this lab is that I couldn't figure out how to drop NaN values for the violin plot. Even though it didn't actually affect my graph on much more than a visual level (as I explained above the actual plot), it is still frustrating that I couldn't figure something out. If I had more time, I would spend a lot of it trying to fix that last pesky bug. Otherwise, I am exceptionally happy with how this lab turned out. Even with finding no correlation where I looked, the analysis and modelling went very smoothly for the most part."
   ]
  },
  {
   "cell_type": "markdown",
   "metadata": {},
   "source": [
    "## Acknowledgements ##\n",
    "*** Ms. Sconyers: ***\n",
    "> I would like to thank Ms. Sconyers for both helping me to better understand the way seaborn plots data, and also for introducing me to lambda functions in Python, which proved to be very useful in this lab."
   ]
  }
 ],
 "metadata": {
  "kernelspec": {
   "display_name": "Python 3",
   "language": "python",
   "name": "python3"
  },
  "language_info": {
   "codemirror_mode": {
    "name": "ipython",
    "version": 3
   },
   "file_extension": ".py",
   "mimetype": "text/x-python",
   "name": "python",
   "nbconvert_exporter": "python",
   "pygments_lexer": "ipython3",
   "version": "3.6.5"
  }
 },
 "nbformat": 4,
 "nbformat_minor": 2
}
